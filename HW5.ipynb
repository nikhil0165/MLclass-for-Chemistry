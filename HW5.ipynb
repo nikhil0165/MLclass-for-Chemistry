{
 "cells": [
  {
   "cell_type": "markdown",
   "metadata": {},
   "source": [
    "# Q2 Gaussian Naive Baye's"
   ]
  },
  {
   "cell_type": "code",
   "execution_count": 1,
   "metadata": {},
   "outputs": [],
   "source": [
    "import pandas as pd\n",
    "import numpy as np\n",
    "from math import*\n",
    "\n",
    "\n",
    "data = pd.read_csv('/home/nikhil/Documents/Berkeley Courses/Machine-Learning/hw5/wines.csv')\n",
    "\n",
    "# 1a) sample_data is the normalizzed data array\n",
    "\n",
    "sample_data = np.zeros((178,13))\n",
    "for i in range(0,13):\n",
    "    #sample_data[:,i] = np.true_divide(data.iloc[:,i] -np.mean(data.iloc[:,i]),np.std(data.iloc[:,i]))\n",
    "    sample_data[:,i] = np.array(data.iloc[:,i])\n",
    "    \n",
    "initial_ranks = data.iloc[:,13]\n",
    "correct_ranks = np.array(data.iloc[:,14])\n",
    "\n",
    "def calculate_accuracy(model,xs,ys):\n",
    "    y_pred=np.zeros_like(ys)\n",
    "    for idx,x in enumerate(xs):\n",
    "        y_pred[idx]=model.predict(x)\n",
    "    return np.sum(ys==y_pred)/len(ys)"
   ]
  },
  {
   "cell_type": "markdown",
   "metadata": {},
   "source": [
    "Q2a) We have chose P(wine attribute x/ cultivar) to be of gaussian form with mean and standard deviation calculated from training data set via usual definition. These mean and standard deviation are chosen as the maximise the log likelihood of probability."
   ]
  },
  {
   "cell_type": "code",
   "execution_count": 2,
   "metadata": {},
   "outputs": [],
   "source": [
    "class NaiveBayesClassifier():\n",
    "    def __init__(self):\n",
    "        self.type_indices={}#stores indices of wines that belong to each cultivar as boolean array of length 178\n",
    "        self.type_stats={}#store the mean and std of each cultivar\n",
    "        self.ndata = 0\n",
    "        self.trained=False\n",
    "    \n",
    "    @staticmethod\n",
    "    def gaussian(x,mean,std):\n",
    "        coeff = -0.5*pow((x-mean)/std,2)\n",
    "        return 1/(std*sqrt(pi*2))*exp(coeff)\n",
    "    \n",
    "    @staticmethod\n",
    "    def calculate_statistics(x_values):\n",
    "        # Returns a list with length of input features. Each element is a tuple, with the input \n",
    "        #feature's average and standard deviation\n",
    "        n_feats=x_values.shape[1]\n",
    "        return [(np.average(x_values[:,n]),np.std(x_values[:,n])) for n in range(n_feats)]\n",
    "    \n",
    "    @staticmethod\n",
    "    def calculate_prob(self,x_input,stats):\n",
    "        \"\"\"Calculate the probability that the input features belong to a specific class(P(X|C)), \n",
    "        defined by the statistics of features in that class\n",
    "        x_input: np.array shape(nfeatures)\n",
    "        stats: list of tuple [(mean1,std1),(means2,std2),...]\n",
    "        \"\"\" \n",
    "        init_prob = np.zeros(len(x_input))\n",
    "        stats = np.array(stats)\n",
    "        for i in range(len(x_input)):\n",
    "            init_prob[i] = self.gaussian(x_input[i],stats[i,0],stats[i,1])\n",
    "            #print(init_prob[i])\n",
    "        return init_prob\n",
    "    \n",
    "    def fit(self,xs,ys):\n",
    "        # Train the classifier by calculating the statistics of different features in each class\n",
    "        self.ndata = len(ys)\n",
    "        for y in set(ys):\n",
    "            type_filter= (ys==y)\n",
    "            self.type_indices[y]=type_filter\n",
    "            self.type_stats[y]=self.calculate_statistics(xs[type_filter])\n",
    "        self.trained=True\n",
    "        \n",
    "    def predict(self,xs):\n",
    "        # Do the prediction by outputing the class that has highest probability\n",
    "        if len(xs.shape)>1:\n",
    "            print(\"Only accepts one sample at a time!\")\n",
    "        if self.trained:\n",
    "            guess=None\n",
    "            max_prob=0\n",
    "            # P(C|X) = P(X|C)*P(C) / sum_i(P(X|C_i)*P(C_i)) (deniminator for normalization only, can be ignored)\n",
    "            for y_type in self.type_stats:\n",
    "                p_c = self.type_indices[y_type].sum()/len(self.type_indices[y_type])\n",
    "                prob= p_c*np.prod(self.calculate_prob(self,xs,self.type_stats[y_type]))\n",
    "                #print(prob)\n",
    "                if prob>max_prob: # we want to put the sample in group which has highest probability\n",
    "                    max_prob=prob\n",
    "                    guess=y_type\n",
    "            return guess\n",
    "        else:\n",
    "            print(\"Please train the classifier first!\")"
   ]
  },
  {
   "cell_type": "code",
   "execution_count": 3,
   "metadata": {},
   "outputs": [],
   "source": [
    "from sklearn.model_selection import train_test_split,KFold\n",
    "\n",
    "def validate(solution,ranks):\n",
    "    index1 = np.where(ranks==1)[0]\n",
    "    index2 = np.where(ranks==2)[0]\n",
    "    index3 = np.where(ranks==3)[0]\n",
    "\n",
    "    solindex1 = np.where(solution==1)[0]\n",
    "    solindex2 = np.where(solution==2)[0]\n",
    "    solindex3 = np.where(solution==3)[0]\n",
    "\n",
    "    \n",
    "    ans1 = np.intersect1d(solindex1,index1,return_indices=True)\n",
    "    ans2 = np.intersect1d(solindex2,index2,return_indices=True)\n",
    "    ans3 = np.intersect1d(solindex3,index3,return_indices=True)\n",
    "    \n",
    "    print(\"Cultivar 1:\" + str(len(ans1[1])) + str(\"out of \") + str(len(index1)) + \" correct\")\n",
    "    print(\"Cultivar 2:\" + str(len(ans2[1])) + str(\"out of \") + str(len(index2)) + \" correct\")\n",
    "    print(\"Cultivar 3:\" + str(len(ans3[1])) + str(\"out of \") + str(len(index3)) + \" correct\")\n",
    "\n",
    "    return \"see the print above\"\n",
    "\n",
    "\n",
    "def Kfold(k,Xs,ys):\n",
    "    # The total number of examples for training the network\n",
    "    total_num = len(Xs)\n",
    "    # Built in K-fold function in Sci-Kit Learn\n",
    "    kf=KFold(n_splits=k,shuffle=True)\n",
    "    # record error for each model\n",
    "    train_error_all=[]\n",
    "    test_error_all=[]\n",
    "    \n",
    "    for train_selector,test_selector in kf.split(range(total_num)):\n",
    "        ### Decide training examples and testing examples for this fold ###\n",
    "        train_Xs= Xs[train_selector]\n",
    "        test_Xs= Xs[test_selector]\n",
    "        train_ys= ys[train_selector]\n",
    "        test_ys= ys[test_selector]\n",
    "               \n",
    "        ### Establish the model for gaussian naive bayes here ###\n",
    "        model= NaiveBayesClassifier()\n",
    "        \n",
    "        model.fit(train_Xs,train_ys)\n",
    "        answers = np.zeros(len(test_ys))\n",
    "        for i in range(len(answers)):\n",
    "            answers[i] = model.predict(test_Xs[i,:])\n",
    "         \n",
    "        print(answers)\n",
    "        print(test_ys)\n",
    "        error =  validate(answers,test_ys)\n",
    "        print(calculate_accuracy(model,test_Xs,test_ys))\n",
    "    return model\n"
   ]
  },
  {
   "cell_type": "code",
   "execution_count": 4,
   "metadata": {},
   "outputs": [
    {
     "name": "stdout",
     "output_type": "stream",
     "text": [
      "[1. 1. 1. 1. 1. 1. 1. 1. 1. 1. 1. 2. 2. 2. 2. 2. 2. 2. 2. 2. 2. 2. 2. 3.\n",
      " 3. 3. 3. 1. 1. 1. 2. 1. 1. 1. 2. 2. 2. 2. 2. 2. 3. 3. 1. 1. 1. 1. 1. 2.\n",
      " 2. 2. 2. 2. 2. 2. 3. 3. 3. 3. 3. 3.]\n",
      "[1 1 1 1 1 1 1 1 1 1 1 2 2 2 2 2 2 2 2 2 2 2 2 3 3 3 3 1 1 1 1 1 1 1 2 2 2\n",
      " 2 2 2 3 3 1 1 1 1 1 2 2 2 2 2 2 2 3 3 3 3 3 3]\n",
      "Cultivar 1:22out of 23 correct\n",
      "Cultivar 2:25out of 25 correct\n",
      "Cultivar 3:12out of 12 correct\n",
      "0.9833333333333333\n",
      "[1. 1. 1. 1. 2. 2. 2. 2. 2. 2. 2. 3. 3. 3. 3. 1. 1. 1. 1. 1. 1. 1. 1. 2.\n",
      " 2. 2. 2. 2. 2. 2. 2. 2. 2. 2. 2. 3. 3. 3. 3. 3. 1. 1. 1. 1. 1. 1. 1. 1.\n",
      " 3. 2. 2. 2. 2. 2. 2. 2. 3. 3. 3.]\n",
      "[1 1 1 1 2 2 2 2 2 2 2 3 3 3 3 1 1 1 1 1 1 1 1 2 2 2 2 2 2 2 2 2 2 2 2 3 3\n",
      " 3 3 3 1 1 1 1 1 1 1 1 2 2 2 2 2 2 2 2 3 3 3]\n",
      "Cultivar 1:20out of 20 correct\n",
      "Cultivar 2:26out of 27 correct\n",
      "Cultivar 3:12out of 12 correct\n",
      "0.9830508474576272\n",
      "[1. 1. 1. 1. 1. 2. 2. 2. 2. 3. 3. 3. 3. 3. 3. 3. 1. 1. 1. 1. 2. 2. 2. 2.\n",
      " 2. 2. 2. 2. 3. 3. 3. 3. 3. 3. 3. 1. 1. 1. 1. 1. 1. 2. 2. 2. 3. 2. 2. 2.\n",
      " 3. 3. 3. 3. 3. 3. 3. 3. 3. 3. 2.]\n",
      "[1 1 1 1 1 2 2 2 2 3 3 3 3 3 3 3 1 1 1 1 1 2 2 2 2 2 2 2 3 3 3 3 3 3 3 1 1\n",
      " 1 1 1 1 2 2 2 2 2 2 2 3 3 3 3 3 3 3 3 3 3 2]\n",
      "Cultivar 1:15out of 16 correct\n",
      "Cultivar 2:18out of 19 correct\n",
      "Cultivar 3:24out of 24 correct\n",
      "0.9661016949152542\n"
     ]
    }
   ],
   "source": [
    "ans  = Kfold(3,sample_data,correct_ranks)"
   ]
  },
  {
   "cell_type": "markdown",
   "metadata": {},
   "source": [
    "Compared to the two versions of the classical simulated annealing we used in HW2, accuracy of Naive Baye's is much better. Accuracy here is in high 90s where there it was more like 75%. I guess Gaussian Naive Baye's allows us to reach global minima in some sense.\n",
    "This result indicates that indeed various attributes are not correlated."
   ]
  },
  {
   "cell_type": "markdown",
   "metadata": {},
   "source": [
    "#  Q3 Soft Max and Cross Entropy Loss"
   ]
  },
  {
   "cell_type": "code",
   "execution_count": 5,
   "metadata": {},
   "outputs": [
    {
     "name": "stdout",
     "output_type": "stream",
     "text": [
      "output without softmax\n",
      "tensor([-24.4639, 281.0908,  80.4819], grad_fn=<AddBackward0>)\n",
      "output with softmax\n",
      "tensor([1.0000e+00, 8.6429e-19, 0.0000e+00], grad_fn=<SoftmaxBackward0>)\n"
     ]
    }
   ],
   "source": [
    "from torch import nn\n",
    "import torch\n",
    "import matplotlib.pyplot as plt\n",
    "\n",
    "class perceptron_nosm(nn.Module):\n",
    "    def __init__(self):\n",
    "        super(perceptron_nosm,self).__init__()\n",
    "        self.layers = nn.Sequential(\n",
    "        nn.Linear(13,3),\n",
    "        )\n",
    "        \n",
    "    def forward(self,x):\n",
    "        return self.layers(x)\n",
    "\n",
    "print(\"output without softmax\")\n",
    "wine_tensor = torch.tensor(sample_data[0])\n",
    "wine_tensor = wine_tensor.float()\n",
    "model = perceptron_nosm()\n",
    "print(model.forward(wine_tensor))\n",
    "\n",
    "\n",
    "class perceptron(nn.Module):\n",
    "    def __init__(self):\n",
    "        super(perceptron,self).__init__()\n",
    "        self.layers = nn.Sequential(\n",
    "        nn.Linear(13,3),\n",
    "        nn.Softmax(dim=0)\n",
    "        )\n",
    "        \n",
    "    def forward(self,x):\n",
    "        return self.layers(x)\n",
    "print(\"output with softmax\")\n",
    "wine_tensor = torch.tensor(sample_data[0])\n",
    "wine_tensor = wine_tensor.float()\n",
    "model = perceptron()\n",
    "print(model.forward(wine_tensor))"
   ]
  },
  {
   "cell_type": "markdown",
   "metadata": {},
   "source": [
    "Q3a) The softmax function essentially makes sure that the sum of the output is 1, essentially creating a probability distribution function."
   ]
  },
  {
   "cell_type": "code",
   "execution_count": 6,
   "metadata": {},
   "outputs": [],
   "source": [
    "from sklearn.model_selection import train_test_split,KFold\n",
    "import torch.optim\n",
    "\n",
    "def transform(ranks):# to trasnform ranks to vector of length 3\n",
    "    answer = np.zeros((len(ranks),3))\n",
    "    for i in range(len(ranks)):\n",
    "        answer[i,int(ranks[i] -1)] = 1\n",
    "    return answer\n",
    "\n",
    "def inv_transform(probs):# to transform probs to cultivar\n",
    "    answer = np.zeros(len(probs))\n",
    "    for i in range(len(probs)):\n",
    "        answer[i] = np.argmax(probs[i]) + 1\n",
    "    return answer    "
   ]
  },
  {
   "cell_type": "code",
   "execution_count": 7,
   "metadata": {},
   "outputs": [],
   "source": [
    "def train_and_val(model,train_X,train_y,epochs,draw_curve=True):\n",
    "    \"\"\"\n",
    "    Parameters\n",
    "    --------------\n",
    "    model: a PyTorch model\n",
    "    train_X: np.array shape(ndata,nfeatures)\n",
    "    train_y: np.array shape(ndata)\n",
    "    epochs: int\n",
    "    draw_curve: bool\n",
    "    \"\"\"\n",
    "    ### Define your loss function, optimizer. Convert data to torch tensor ###\n",
    "    \n",
    "    criterion = nn.CrossEntropyLoss()\n",
    "    optimizer = torch.optim.Adam(model.parameters(),lr=1e-3)\n",
    "    \n",
    "    ### Split training examples further into training and validation ###\n",
    "    train_in,valid_in,train_real,valid_real=train_test_split(train_X,train_y)\n",
    "    training_real = transform(train_real)\n",
    "    validate_real = transform(valid_real)\n",
    "    val_array=[]\n",
    "    lowest_val_loss = np.inf\n",
    "    \n",
    "    for i in range(epochs):\n",
    "        \n",
    "        ### Compute the loss and do backpropagation ###\n",
    "        optimizer.zero_grad()   # zero the gradient buffers\n",
    "        output = model.forward(torch.FloatTensor(train_in))\n",
    "        loss = criterion(output, torch.FloatTensor(training_real))\n",
    "        loss.backward()\n",
    "        optimizer.step() \n",
    "        \n",
    "        ### compute validation loss and keep track of the lowest val loss ###\n",
    "        val_err = criterion(model.forward(torch.FloatTensor(valid_in)), torch.FloatTensor(validate_real))\n",
    "        \n",
    "        val_array.append(val_err.item())\n",
    "        if val_err.item() < lowest_val_loss:\n",
    "             lowest_val_loss = val_err.item()\n",
    "                \n",
    "    if draw_curve:\n",
    "        plt.figure()\n",
    "        plt.plot(np.arange(len(val_array))+1,val_array,label='Validation loss')\n",
    "        plt.xlabel('Epochs')\n",
    "        plt.ylabel('Loss')\n",
    "        plt.legend()\n",
    "                \n",
    "     # The final number of epochs is when the minimum error in validation set occurs    \n",
    "    final_epochs=np.argmin(val_array)+1\n",
    "    print(\"Number of epochs with lowest validation:\",final_epochs)\n",
    "    ### Recover the model weight ###\n",
    "    weights = model.parameters()\n",
    "\n",
    "    return model,weights     "
   ]
  },
  {
   "cell_type": "code",
   "execution_count": 8,
   "metadata": {},
   "outputs": [],
   "source": [
    "def Kfold_nn(k,Xs,ys,epochs):\n",
    "    # The total number of examples for training the network\n",
    "    total_num = len(Xs)\n",
    "    # Built in K-fold function in Sci-Kit Learn\n",
    "    kf=KFold(n_splits=k,shuffle=True)\n",
    "    # record error for each model\n",
    "    train_error_all=[]\n",
    "    test_error_all=[]\n",
    "    model= perceptron()\n",
    "    weights = np.zeros(len(list(model.parameters())))\n",
    "    \n",
    "    for train_selector,test_selector in kf.split(range(total_num)):\n",
    "        ### Decide training examples and testing examples for this fold ###\n",
    "        train_Xs= Xs[train_selector]        \n",
    "        test_Xs= Xs[test_selector]\n",
    "        train_ys= ys[train_selector]\n",
    "        test_ys= ys[test_selector]\n",
    "               \n",
    "        ### Establish the model for gaussian naive bayes here ###\n",
    "        \n",
    "        model,weights  = train_and_val(model,train_Xs,train_ys,epochs,draw_curve=True)\n",
    "        \n",
    "        answers = inv_transform(model.forward(torch.FloatTensor(test_Xs)).detach().cpu().numpy())\n",
    "         \n",
    "        print(answers)\n",
    "        print(test_ys)\n",
    "\n",
    "        error =  validate(answers,test_ys)\n",
    "\n",
    "    return model"
   ]
  },
  {
   "cell_type": "code",
   "execution_count": 9,
   "metadata": {},
   "outputs": [
    {
     "name": "stdout",
     "output_type": "stream",
     "text": [
      "Number of epochs with lowest validation: 188\n",
      "[1. 1. 1. 1. 1. 1. 1. 2. 2. 2. 2. 2. 2. 2. 3. 2. 1. 1. 1. 1. 1. 1. 2. 2.\n",
      " 2. 2. 2. 2. 2. 2. 2. 2. 2. 2. 2. 2. 1. 1. 1. 1. 1. 1. 1. 1. 1. 2. 1. 2.\n",
      " 2. 2. 2. 2. 2. 3. 2. 2. 3. 2. 2. 3.]\n",
      "[1 1 1 1 1 1 1 2 2 2 2 3 3 3 3 3 1 1 1 1 1 1 2 2 2 2 2 2 2 2 2 3 3 3 3 3 1\n",
      " 1 1 1 1 1 1 1 1 2 2 2 2 2 2 2 2 2 2 3 3 3 3 3]\n",
      "Cultivar 1:22out of 22 correct\n",
      "Cultivar 2:21out of 23 correct\n",
      "Cultivar 3:3out of 15 correct\n",
      "Number of epochs with lowest validation: 12422\n",
      "[1. 1. 2. 1. 2. 2. 1. 1. 1. 3. 2. 2. 2. 2. 2. 2. 2. 2. 2. 3. 3. 3. 2. 1.\n",
      " 1. 1. 1. 2. 1. 2. 2. 2. 1. 2. 2. 2. 2. 2. 2. 2. 3. 3. 3. 1. 1. 1. 3. 2.\n",
      " 2. 2. 2. 3. 3. 3. 3. 3. 3. 3. 3.]\n",
      "[1 1 1 1 1 1 1 1 1 2 2 2 2 2 2 2 2 2 2 3 3 3 1 1 1 1 1 1 1 2 2 2 2 2 2 2 2\n",
      " 2 2 2 3 3 3 1 1 1 2 2 2 2 3 3 3 3 3 3 3 3 3]\n",
      "Cultivar 1:14out of 19 correct\n",
      "Cultivar 2:22out of 25 correct\n",
      "Cultivar 3:14out of 15 correct\n",
      "Number of epochs with lowest validation: 8\n",
      "[1. 1. 1. 1. 2. 2. 2. 2. 2. 2. 1. 2. 2. 3. 3. 3. 3. 3. 3. 3. 1. 1. 1. 1.\n",
      " 1. 1. 1. 2. 2. 2. 2. 2. 3. 3. 1. 3. 3. 3. 1. 1. 1. 1. 1. 1. 1. 1. 2. 2.\n",
      " 2. 1. 2. 2. 2. 3. 3. 3. 3. 3. 2.]\n",
      "[1 1 1 1 2 2 2 2 2 2 2 2 2 3 3 3 3 3 3 3 1 1 1 1 1 1 1 2 2 2 2 2 3 3 3 3 3\n",
      " 3 1 1 1 1 1 1 1 2 2 2 2 2 2 2 2 3 3 3 3 3 2]\n",
      "Cultivar 1:18out of 18 correct\n",
      "Cultivar 2:20out of 23 correct\n",
      "Cultivar 3:17out of 18 correct\n"
     ]
    },
    {
     "data": {
      "image/png": "[encoded data removed]",
      "text/plain": [
       "<Figure size 432x288 with 1 Axes>"
      ]
     },
     "metadata": {
      "needs_background": "light"
     },
     "output_type": "display_data"
    },
    {
     "data": {
      "image/png": "[encoded data removed]",
      "text/plain": [
       "<Figure size 432x288 with 1 Axes>"
      ]
     },
     "metadata": {
      "needs_background": "light"
     },
     "output_type": "display_data"
    },
    {
     "data": {
      "image/png": "[encoded data removed]",
      "text/plain": [
       "<Figure size 432x288 with 1 Axes>"
      ]
     },
     "metadata": {
      "needs_background": "light"
     },
     "output_type": "display_data"
    }
   ],
   "source": [
    "#Q3b)\n",
    "answer = Kfold_nn(3,sample_data,correct_ranks,20000)"
   ]
  },
  {
   "cell_type": "markdown",
   "metadata": {},
   "source": [
    "Performance from NN with cross entropy loss is very good, however it is still less successfull than Gaussian naive bayes for the paramteres I have chosen. Perhaps choosing a more appropriate optimizer and number of epochs will lead to a better result."
   ]
  }
 ],
 "metadata": {
  "kernelspec": {
   "display_name": "mlclass2",
   "language": "python",
   "name": "mlclass2"
  },
  "language_info": {
   "codemirror_mode": {
    "name": "ipython",
    "version": 3
   },
   "file_extension": ".py",
   "mimetype": "text/x-python",
   "name": "python",
   "nbconvert_exporter": "python",
   "pygments_lexer": "ipython3",
   "version": "3.7.11"
  }
 },
 "nbformat": 4,
 "nbformat_minor": 2
}
