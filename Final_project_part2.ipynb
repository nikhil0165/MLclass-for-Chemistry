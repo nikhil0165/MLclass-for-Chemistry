{
 "cells": [
  {
   "cell_type": "markdown",
   "metadata": {},
   "source": [
    "# Step 2: Solving the PDE with Neural Network"
   ]
  },
  {
   "cell_type": "markdown",
   "metadata": {},
   "source": [
    "In this step, I have attempted to solve the PDE when s is not a constant and there is no analytical solution. I tried to solve the PDE for the case when s(x) goes from 1 to 2 in a tanh like fashion when x goes from -1 to 1. I have used a semi-supervised learning type approach where instead of labelled data I incorporate the original PDE (Equation 1) and Boundary conditions (Equation 2 and 3) in the loss function."
   ]
  },
  {
   "cell_type": "code",
   "execution_count": 1,
   "metadata": {},
   "outputs": [],
   "source": [
    "import numpy as np\n",
    "import matplotlib.pyplot as plt\n",
    "from torch.optim import SGD, Adam\n",
    "import torch.nn.functional as F\n",
    "import random\n",
    "from tqdm import tqdm\n",
    "import math\n",
    "from sklearn.model_selection import train_test_split\n",
    "from functools import wraps\n",
    "from time import time\n",
    "from math import*\n",
    "\n",
    "def timing(f):\n",
    "    @wraps(f)\n",
    "    def wrap(*args, **kw):\n",
    "        ts = time()\n",
    "        result = f(*args, **kw)\n",
    "        te = time()\n",
    "        print('func:%r  took: %2.4f sec' % (f.__name__,  te-ts))\n",
    "        return result\n",
    "    return wrap\n",
    "\n",
    "def create_chunks(complete_list, chunk_size=None, num_chunks=None):\n",
    "\n",
    "    chunks = []\n",
    "    if num_chunks is None:\n",
    "        num_chunks = math.ceil(len(complete_list) / chunk_size)\n",
    "    elif chunk_size is None:\n",
    "        chunk_size = math.ceil(len(complete_list) / num_chunks)\n",
    "    for i in range(num_chunks):\n",
    "        chunks.append(complete_list[i * chunk_size: (i + 1) * chunk_size])\n",
    "    return chunks\n"
   ]
  },
  {
   "cell_type": "markdown",
   "metadata": {},
   "source": [
    "# Training data generators"
   ]
  },
  {
   "cell_type": "code",
   "execution_count": 2,
   "metadata": {},
   "outputs": [],
   "source": [
    "def data_generator_pde(N):\n",
    "    train_X = np.zeros((N,1))\n",
    "    #train_X = np.zeros(N)\n",
    "    y = np.linspace(-1,1,N)\n",
    "    for i in range(N):\n",
    "        train_X[i,0]=y[i]   \n",
    "    return train_X,train_X"
   ]
  },
  {
   "cell_type": "code",
   "execution_count": 3,
   "metadata": {},
   "outputs": [],
   "source": [
    "def data_generator(N,s):\n",
    "    train_X = np.zeros((N,3))\n",
    "    train_y = np.zeros((N))\n",
    "    y = np.linspace(-1,1,N)\n",
    "\n",
    "    for i in range(N):\n",
    "        train_X[i,0] = s#0*np.random.rand() + 0.01 #s\n",
    "        train_X[i,1] = y[i]\n",
    "        train_X[i,2] = 0*2*np.random.rand() - 0*1.0 #x'\n",
    "        train_y[i] = np.exp(-train_X[i,0]*abs(train_X[i,1]-train_X[i,2]))/(2*train_X[i,0])\n",
    "        \n",
    "    return train_y  \n",
    "\n"
   ]
  },
  {
   "cell_type": "markdown",
   "metadata": {},
   "source": [
    "# Optimized architecture of the neural network."
   ]
  },
  {
   "cell_type": "code",
   "execution_count": 4,
   "metadata": {},
   "outputs": [
    {
     "name": "stdout",
     "output_type": "stream",
     "text": [
      "ann(\n",
      "  (Linear): ModuleList(\n",
      "    (0): Linear(in_features=1, out_features=200, bias=True)\n",
      "    (1): Linear(in_features=200, out_features=200, bias=True)\n",
      "    (2): Linear(in_features=200, out_features=200, bias=True)\n",
      "    (3): Linear(in_features=200, out_features=200, bias=True)\n",
      "    (4): Linear(in_features=200, out_features=100, bias=True)\n",
      "    (5): Linear(in_features=100, out_features=1, bias=True)\n",
      "  )\n",
      "  (activation): ModuleList(\n",
      "    (0): Tanh()\n",
      "  )\n",
      ")\n"
     ]
    }
   ],
   "source": [
    "from torch import nn\n",
    "import torch\n",
    "        \n",
    "\n",
    "class ann(nn.Module):\n",
    "    def __init__(self):\n",
    "        super(ann, self).__init__()\n",
    "        a = 200\n",
    "        inp = 1\n",
    "        self.Linear = nn.ModuleList([nn.Linear(inp,a),nn.Linear(a,a)\n",
    "                                     ,nn.Linear(a,a),nn.Linear(a,a)\n",
    "                                     ,nn.Linear(a,100),nn.Linear(100,1)])\n",
    "        self.activation = nn.ModuleList([nn.Tanh()])\n",
    "    def forward(self, x):\n",
    "        for i in range(len(self.Linear)-1):\n",
    "                x = self.activation[0](self.Linear[i](x))\n",
    "        x = self.Linear[-1](x)  \n",
    "        return x\n",
    "\n",
    "print(ann())\n"
   ]
  },
  {
   "cell_type": "markdown",
   "metadata": {},
   "source": [
    "#  Neural Network Trianer"
   ]
  },
  {
   "cell_type": "code",
   "execution_count": 5,
   "metadata": {},
   "outputs": [],
   "source": [
    "class Trainer_pde():\n",
    "    def __init__(self, model, error_fn,loss_fn, learning_rate, epoch, batch_size):\n",
    "\n",
    "        self.model = model()\n",
    "        self.optimizer = Adam(self.model.parameters(),learning_rate,weight_decay=1e-5)           \n",
    "        self.epoch = epoch\n",
    "        self.batch_size = batch_size\n",
    "\n",
    "    @timing\n",
    "    def train(self,error_fn,loss_fn,inputs,val_inputs,early_stop,l2,silent=False):\n",
    "        ### convert data to tensor of correct shape and type here ###\n",
    "        inputs = torch.tensor(inputs,dtype=torch.float32,requires_grad = True)\n",
    "        val_inputs = torch.tensor(val_inputs,dtype=torch.float32,requires_grad = True)\n",
    "        losses = []\n",
    "        errors = []\n",
    "        val_losses = []\n",
    "        val_errors = []\n",
    "        weights = self.model.state_dict()\n",
    "        lowest_val_loss = np.inf\n",
    "        l2_lambda=1e-5        \n",
    "        for n_epoch in tqdm(range(self.epoch), leave=False):\n",
    "            self.model.train()\n",
    "            batch_indices = list(range(inputs.shape[0]))\n",
    "            batch_indices = create_chunks(batch_indices, chunk_size=self.batch_size)\n",
    "            #print(batch_indices)\n",
    "            epoch_loss = 0\n",
    "            epoch_error = 0\n",
    "            for batch in batch_indices:\n",
    "                batch_importance = len(batch) / len(inputs)\n",
    "                batch_input = inputs[batch]\n",
    "                ### make prediction and compute loss with loss function of your choice on this batch ###\n",
    "                batch_predictions = self.model.forward(batch_input).squeeze(-1)\n",
    "                deriv = [torch.autograd.grad(outputs=out, inputs=batch_input, allow_unused=True,  retain_graph=True, create_graph=True)[0][i] for i, out in enumerate(batch_predictions)]\n",
    "                first_deriv = torch.empty((len(deriv)),requires_grad=False)\n",
    "                for i in range(len(deriv)):\n",
    "                    first_deriv[i] = (deriv[i])\n",
    "                sec_deriv =  torch.empty((len(deriv)),requires_grad=False)   \n",
    "                deriv2 = [torch.autograd.grad(outputs=out, inputs=batch_input,allow_unused=True, retain_graph=True, create_graph=True)[0][i] for i, out in enumerate(first_deriv)]\n",
    "                for i in range(len(deriv)):\n",
    "                    sec_deriv[i] = (deriv2[i])\n",
    "                answer = torch.mul(torch.tensor(-1,dtype=torch.float64),sec_deriv) + torch.mul(torch.pow(s_tanh(batch_input),2),batch_predictions) - delta(batch_input,1e-5)\n",
    "                answer1 = first_deriv[0] - torch.mul(s_tanh(batch_input[0]),batch_predictions[0])\n",
    "                answer2 = first_deriv[-1] + torch.mul(s_tanh(batch_input[-1]),batch_predictions[-1])\n",
    "                loss = nn.MSELoss()(answer,torch.zeros(len(deriv))) +  nn.MSELoss()(answer1,torch.zeros(1)) +  nn.MSELoss()(answer2,torch.zeros(1))\n",
    "                if l2:\n",
    "                    ### Compute the loss with L2 regularization ###\n",
    "                    l2_norm = sum([p.pow(2.0).sum() for p in self.model.parameters()])\n",
    "                    loss = loss + l2_lambda * l2_norm\n",
    "                self.optimizer.zero_grad()\n",
    "                loss.backward()\n",
    "                self.optimizer.step()\n",
    "                ### Compute epoch_loss and epoch_error\n",
    "                epoch_loss += loss.detach().item()*batch_importance\n",
    "                error = np.sqrt(epoch_loss)\n",
    "                epoch_error += error*batch_importance\n",
    "            \n",
    "            predictions =self.model.forward(val_inputs).squeeze(-1) \n",
    "            deriv = [torch.autograd.grad(outputs=out, inputs=val_inputs, allow_unused=True,  retain_graph=True, create_graph=True)[0][i] for i, out in enumerate(predictions)]\n",
    "            first_deriv = torch.empty((len(deriv)),requires_grad=False)\n",
    "            for i in range(len(deriv)):\n",
    "                    first_deriv[i] = deriv[i]\n",
    "            sec_deriv =  torch.empty((len(deriv)),requires_grad=False)   \n",
    "            deriv2 = [torch.autograd.grad(outputs=out, inputs=val_inputs,allow_unused=True, retain_graph=True, create_graph=True)[0][i] for i, out in enumerate(first_deriv)]\n",
    "            for i in range(len(deriv)):\n",
    "                    sec_deriv[i] = deriv2[i]\n",
    "            answer = torch.mul(torch.tensor(-1,dtype=torch.float64),sec_deriv) + torch.mul(torch.pow(s_tanh(val_inputs),2),predictions) - delta(val_inputs,1e-5)  \n",
    "            answer1 = first_deriv[0] - torch.mul(s_tanh(val_inputs[0]),predictions[0])\n",
    "            answer2 = first_deriv[-1] + torch.mul(s_tanh(val_inputs[-1]),predictions[-1])\n",
    "            loss = nn.MSELoss()(answer,torch.zeros(len(deriv))) +  nn.MSELoss()(answer1,torch.zeros(1)) +  nn.MSELoss()(answer2,torch.zeros(1))\n",
    "            val_loss = loss.detach().numpy()\n",
    "            val_error = np.sqrt(val_loss)\n",
    "            #val_loss, val_error = self.evaluate(val_inputs, val_outputs, error_fn,print_error=False)\n",
    "            if n_epoch % 25 ==0 and not silent: \n",
    "                print(\"Epoch %d/%d - Loss: %.3f - error: %.3f\" % (n_epoch + 1, self.epoch, epoch_loss, epoch_error))\n",
    "                print(\"              Val_loss: %.3f - Val_error: %.3f\" % (val_loss, val_error))\n",
    "            losses.append(epoch_loss)\n",
    "            errors.append(epoch_error)\n",
    "            val_losses.append(val_loss)\n",
    "            val_errors.append(val_error)\n",
    "            if early_stop:\n",
    "                if val_loss < lowest_val_loss:\n",
    "                    lowest_val_loss = val_loss\n",
    "                    weights = self.model.state_dict()\n",
    "        if early_stop:\n",
    "            self.model.load_state_dict(weights)    \n",
    "\n",
    "        return self.model,{\"losses\": losses, \"errors\": errors, \"val_losses\": val_losses, \"val_errors\": val_errors}\n",
    "        \n"
   ]
  },
  {
   "cell_type": "code",
   "execution_count": 6,
   "metadata": {},
   "outputs": [],
   "source": [
    "from sklearn.model_selection import train_test_split,KFold\n",
    "\n",
    "def train_and_val(model,error_fn,loss_fn,train_X,val_X,epochs,batch_size,lr,early_stop,l2,draw_curve=True):\n",
    "\n",
    "    ann_trainer = Trainer_pde(model,error_fn,loss_fn,lr, epochs, batch_size)\n",
    "    \n",
    "    model,ledger  = ann_trainer.train(error_fn,loss_fn,train_X,val_X,early_stop,l2)\n",
    "    val_array = ledger['val_losses']\n",
    "    train_array = ledger['losses']\n",
    "    val_error= ledger['val_errors']\n",
    "    train_error = ledger['errors']\n",
    "    train_error_all=[]\n",
    "    if draw_curve:\n",
    "        plt.figure()\n",
    "        plt.plot(np.arange(len(val_array))+1,val_array,label='Validation loss')\n",
    "        plt.plot(np.arange(len(train_array))+1,train_array,label='Training loss')        \n",
    "        plt.xlabel('Epochs')\n",
    "        plt.ylabel('Loss')\n",
    "        plt.legend()\n",
    "    \n",
    "    if draw_curve:\n",
    "        plt.figure()\n",
    "        plt.plot(np.arange(len(val_error))+1,val_error,label='Validation Error')\n",
    "        plt.plot(np.arange(len(train_error))+1,train_error,label='Training Error')        \n",
    "        plt.xlabel('Epochs')\n",
    "        plt.ylabel('Error')\n",
    "        plt.legend()\n",
    "    \n",
    "    if early_stop:\n",
    "            report_idx= np.argmin(ledger[\"val_losses\"])      \n",
    "    else:\n",
    "            report_idx=-1\n",
    "    ### Recover the model weight ###\n",
    "    weights = model.parameters()\n",
    "\n",
    "    return model,weights "
   ]
  },
  {
   "cell_type": "markdown",
   "metadata": {},
   "source": [
    "# Delta function approximator for PDE"
   ]
  },
  {
   "cell_type": "code",
   "execution_count": 7,
   "metadata": {},
   "outputs": [],
   "source": [
    "def delta(x,eps):\n",
    "    ans = torch.zeros(x.size(dim=0))\n",
    "    torch.pi = torch.acos(torch.zeros(1)).item() * 2\n",
    "    for i in range(x.size(dim=0)):\n",
    "        #ans[i] = torch.tensor(1.0/(eps*sqrt(2.*torch.pi))*torch.exp(-(x[i])*x[i]/(2.*eps**2)),dtype=torch.float32,requires_grad=True)\n",
    "        ans[i] = 1.0/(eps*sqrt(2.*torch.pi))*torch.exp(-(x[i])*x[i]/(2.*eps**2)).clone().detach().requires_grad_(True)\n",
    "    return ans\n",
    "    #return torch.tensor(1.0/(eps*sqrt(2.*np.pi))*torch.exp(-(x-y)**2/(2.*eps**2)),dtype=torch.float32,requires_grad=True)\n",
    "\n",
    "def s_tanh(x):\n",
    "    ans = torch.zeros(x.size(dim=0))\n",
    "    for i in range(x.size(dim=0)):\n",
    "        ans[i] = 1.5*torch.tanh(torch.mul(x[i],10)) + 0.5\n",
    "    return ans\n",
    "    #return 1.5*np.tanh(x*10) + 0.5"
   ]
  },
  {
   "cell_type": "markdown",
   "metadata": {},
   "source": [
    "# Loss and Error Function"
   ]
  },
  {
   "cell_type": "code",
   "execution_count": 11,
   "metadata": {},
   "outputs": [
    {
     "name": "stderr",
     "output_type": "stream",
     "text": [
      "  1%|▏         | 1/75 [00:00<00:44,  1.66it/s]"
     ]
    },
    {
     "name": "stdout",
     "output_type": "stream",
     "text": [
      "Epoch 1/75 - Loss: 0.105 - error: 0.324\n",
      "              Val_loss: 0.786 - Val_error: 0.886\n"
     ]
    },
    {
     "name": "stderr",
     "output_type": "stream",
     "text": [
      " 35%|███▍      | 26/75 [00:15<00:29,  1.68it/s]"
     ]
    },
    {
     "name": "stdout",
     "output_type": "stream",
     "text": [
      "Epoch 26/75 - Loss: 0.005 - error: 0.073\n",
      "              Val_loss: 0.005 - Val_error: 0.072\n"
     ]
    },
    {
     "name": "stderr",
     "output_type": "stream",
     "text": [
      " 68%|██████▊   | 51/75 [00:30<00:14,  1.67it/s]"
     ]
    },
    {
     "name": "stdout",
     "output_type": "stream",
     "text": [
      "Epoch 51/75 - Loss: 0.000 - error: 0.015\n",
      "              Val_loss: 0.000 - Val_error: 0.012\n"
     ]
    },
    {
     "name": "stderr",
     "output_type": "stream",
     "text": [
      "                                               "
     ]
    },
    {
     "name": "stdout",
     "output_type": "stream",
     "text": [
      "func:'train'  took: 44.4100 sec\n"
     ]
    },
    {
     "name": "stderr",
     "output_type": "stream",
     "text": [
      "\r"
     ]
    },
    {
     "data": {
      "image/png": "[encoded data removed]",
      "text/plain": [
       "<Figure size 432x288 with 1 Axes>"
      ]
     },
     "metadata": {
      "needs_background": "light"
     },
     "output_type": "display_data"
    },
    {
     "data": {
      "image/png": "[encoded data removed]",
      "text/plain": [
       "<Figure size 432x288 with 1 Axes>"
      ]
     },
     "metadata": {
      "needs_background": "light"
     },
     "output_type": "display_data"
    }
   ],
   "source": [
    "N=20\n",
    "train_X,train_y = data_generator_pde(N)\n",
    "model, weights = train_and_val(ann,nn.MSELoss,nn.MSELoss,train_X,train_X,75,N,lr=1e-3,early_stop=True,l2=False)"
   ]
  },
  {
   "cell_type": "code",
   "execution_count": 9,
   "metadata": {},
   "outputs": [],
   "source": [
    "def error_analy(x,y):\n",
    "    error = np.sum(np.true_divide(abs(x-y),y))*100/(len(y))\n",
    "    return error\n",
    "\n",
    "def evaluate_ind(model, inputs, outputs,error_fn,print_error=True):\n",
    "        loss_fn = nn.MSELoss()\n",
    "        inputs = torch.FloatTensor(inputs) \n",
    "        predictions = model.forward(inputs).squeeze(-1)\n",
    "        print(predictions)\n",
    "        print(outputs)\n",
    "        error = error_fn(predictions.detach().numpy(),outputs)\n",
    "        if print_error:\n",
    "            print(\"Testing set Precentage Error: %.3f\" % error)\n",
    "        return error"
   ]
  },
  {
   "cell_type": "code",
   "execution_count": 10,
   "metadata": {},
   "outputs": [
    {
     "name": "stdout",
     "output_type": "stream",
     "text": [
      "tensor([ 7.9071e-03,  7.2247e-03,  6.5728e-03,  5.9541e-03,  5.3697e-03,\n",
      "         4.8199e-03,  4.3034e-03,  3.8182e-03,  3.3616e-03,  2.9308e-03,\n",
      "         2.5229e-03,  2.1353e-03,  1.7661e-03,  1.4143e-03,  1.0800e-03,\n",
      "         7.6430e-04,  4.6987e-04,  2.0020e-04, -4.0427e-05, -2.4769e-04],\n",
      "       grad_fn=<SqueezeBackward1>)\n",
      "[0.18393972 0.20435757 0.22704186 0.25224418 0.28024402 0.31135193\n",
      " 0.34591291 0.38431026 0.42696983 0.47436474 0.47436474 0.42696983\n",
      " 0.38431026 0.34591291 0.31135193 0.28024402 0.25224418 0.22704186\n",
      " 0.20435757 0.18393972]\n",
      "Testing set Precentage Error: 98.858\n"
     ]
    },
    {
     "data": {
      "text/plain": [
       "98.85818344289994"
      ]
     },
     "execution_count": 10,
     "metadata": {},
     "output_type": "execute_result"
    }
   ],
   "source": [
    "test_y = data_generator(N,1)\n",
    "\n",
    "evaluate_ind(model,train_X,test_y,error_analy)"
   ]
  }
 ],
 "metadata": {
  "kernelspec": {
   "display_name": "mlclass",
   "language": "python",
   "name": "mlclass"
  },
  "language_info": {
   "codemirror_mode": {
    "name": "ipython",
    "version": 3
   },
   "file_extension": ".py",
   "mimetype": "text/x-python",
   "name": "python",
   "nbconvert_exporter": "python",
   "pygments_lexer": "ipython3",
   "version": "3.7.13"
  }
 },
 "nbformat": 4,
 "nbformat_minor": 2
}
